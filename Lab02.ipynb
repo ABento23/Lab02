{
 "cells": [
  {
   "cell_type": "code",
   "execution_count": 2,
   "metadata": {},
   "outputs": [],
   "source": [
    "#1\n",
    "shoppingList = ['potatoes', 'carrots', 'cod', 'sprouts']"
   ]
  },
  {
   "cell_type": "code",
   "execution_count": 3,
   "metadata": {},
   "outputs": [
    {
     "name": "stdout",
     "output_type": "stream",
     "text": [
      "carrots\n",
      "sprouts\n"
     ]
    }
   ],
   "source": [
    "#2\n",
    "print(shoppingList[1])\n",
    "print(shoppingList[-1])"
   ]
  },
  {
   "cell_type": "code",
   "execution_count": 4,
   "metadata": {},
   "outputs": [
    {
     "name": "stdout",
     "output_type": "stream",
     "text": [
      "We should eat potatoes\n",
      "We should eat carrots\n",
      "We should eat cod\n",
      "We should eat sprouts\n"
     ]
    }
   ],
   "source": [
    "#3\n",
    "for item in shoppingList:\n",
    "    print('We should eat', item)"
   ]
  },
  {
   "cell_type": "code",
   "execution_count": 5,
   "metadata": {},
   "outputs": [],
   "source": [
    "#4\n",
    "shoppingList.append('orange')\n",
    "shoppingList.append('lime')"
   ]
  },
  {
   "cell_type": "code",
   "execution_count": 6,
   "metadata": {},
   "outputs": [
    {
     "name": "stdout",
     "output_type": "stream",
     "text": [
      "['cod', 'sprouts', 'orange']\n"
     ]
    }
   ],
   "source": [
    "#5\n",
    "shoppingList.remove('carrots')\n",
    "del shoppingList[0]\n",
    "shoppingList.pop()\n",
    "print(shoppingList)"
   ]
  },
  {
   "cell_type": "code",
   "execution_count": 7,
   "metadata": {},
   "outputs": [
    {
     "name": "stdout",
     "output_type": "stream",
     "text": [
      "there are 3 items in the list.\n",
      "there is 1 fruit is the list\n"
     ]
    }
   ],
   "source": [
    "#6\n",
    "print('there are', len(shoppingList), 'items in the list.')\n",
    "\n",
    "fruits = {1:'orange', 2:'apple', 3:'pear', 4:'grape', 5:'peach', 6:'lime'}\n",
    "n = 0\n",
    "for item in shoppingList:\n",
    "    if item in fruits.values():\n",
    "        n += 1\n",
    "\n",
    "if n == 1:\n",
    "    print('there is 1 fruit is the list')\n",
    "else:\n",
    "    print('there are', n, 'items in the list.')"
   ]
  },
  {
   "cell_type": "code",
   "execution_count": 36,
   "metadata": {},
   "outputs": [
    {
     "name": "stdout",
     "output_type": "stream",
     "text": [
      "['cod', 'sprouts', 'orange']\n"
     ]
    }
   ],
   "source": [
    "#7\n",
    "firstThree = shoppingList[: 3]\n",
    "print(firstThree)"
   ]
  },
  {
   "cell_type": "code",
   "execution_count": 37,
   "metadata": {},
   "outputs": [
    {
     "name": "stdout",
     "output_type": "stream",
     "text": [
      "['cod', 'sprouts', 'ananas', 'orange']\n"
     ]
    }
   ],
   "source": [
    "#8\n",
    "shoppingList.insert(2, 'ananas')\n",
    "print(shoppingList)"
   ]
  },
  {
   "cell_type": "code",
   "execution_count": 38,
   "metadata": {},
   "outputs": [],
   "source": [
    "#9\n",
    "shoppingList.reverse()"
   ]
  },
  {
   "cell_type": "code",
   "execution_count": 39,
   "metadata": {},
   "outputs": [],
   "source": [
    "#10\n",
    "shoppingList.sort()"
   ]
  },
  {
   "cell_type": "code",
   "execution_count": 40,
   "metadata": {},
   "outputs": [
    {
     "name": "stdout",
     "output_type": "stream",
     "text": [
      "['ananas', 'cod', 'orange', 'sprouts']\n"
     ]
    }
   ],
   "source": [
    "#11\n",
    "shopping = shoppingList\n",
    "shoppingListCopy = shoppingList[:]\n",
    "print(shopping)"
   ]
  },
  {
   "cell_type": "code",
   "execution_count": 41,
   "metadata": {},
   "outputs": [
    {
     "name": "stdout",
     "output_type": "stream",
     "text": [
      "['ananas', 'cod', 'orange', 'sprouts', 'orange']\n"
     ]
    }
   ],
   "source": [
    "#12\n",
    "shopping = shoppingList\n",
    "shoppingList.append(\"orange\")\n",
    "print(shopping)\n",
    "\n",
    "#shopping is also changed because shopping is created as a pointer and not as a copy of shoppingList"
   ]
  },
  {
   "cell_type": "code",
   "execution_count": 42,
   "metadata": {},
   "outputs": [],
   "source": [
    "#13\n",
    "shoppingList.clear()"
   ]
  },
  {
   "cell_type": "code",
   "execution_count": 43,
   "metadata": {},
   "outputs": [
    {
     "name": "stdout",
     "output_type": "stream",
     "text": [
      "beans\n"
     ]
    },
    {
     "ename": "TypeError",
     "evalue": "'tuple' object does not support item assignment",
     "output_type": "error",
     "traceback": [
      "\u001b[1;31m---------------------------------------------------------------------------\u001b[0m",
      "\u001b[1;31mTypeError\u001b[0m                                 Traceback (most recent call last)",
      "\u001b[1;32m<ipython-input-43-80eb1d1469b0>\u001b[0m in \u001b[0;36m<module>\u001b[1;34m\u001b[0m\n\u001b[0;32m      2\u001b[0m \u001b[0mnewPurchases\u001b[0m\u001b[1;33m=\u001b[0m \u001b[1;33m(\u001b[0m\u001b[1;34m\"bananas\"\u001b[0m\u001b[1;33m,\u001b[0m \u001b[1;34m\"beans\"\u001b[0m\u001b[1;33m,\u001b[0m \u001b[1;34m\"rice\"\u001b[0m\u001b[1;33m)\u001b[0m\u001b[1;33m\u001b[0m\u001b[1;33m\u001b[0m\u001b[0m\n\u001b[0;32m      3\u001b[0m \u001b[0mprint\u001b[0m \u001b[1;33m(\u001b[0m\u001b[0mnewPurchases\u001b[0m \u001b[1;33m[\u001b[0m\u001b[1;36m1\u001b[0m\u001b[1;33m]\u001b[0m\u001b[1;33m)\u001b[0m\u001b[1;33m\u001b[0m\u001b[1;33m\u001b[0m\u001b[0m\n\u001b[1;32m----> 4\u001b[1;33m \u001b[0mnewPurchases\u001b[0m \u001b[1;33m[\u001b[0m\u001b[1;36m0\u001b[0m\u001b[1;33m]\u001b[0m \u001b[1;33m=\u001b[0m \u001b[1;34m\"apple\"\u001b[0m\u001b[1;33m\u001b[0m\u001b[1;33m\u001b[0m\u001b[0m\n\u001b[0m\u001b[0;32m      5\u001b[0m \u001b[1;33m\u001b[0m\u001b[0m\n\u001b[0;32m      6\u001b[0m \u001b[1;31m#An error occurs because a tuple cannot be changed after creation\u001b[0m\u001b[1;33m\u001b[0m\u001b[1;33m\u001b[0m\u001b[1;33m\u001b[0m\u001b[0m\n",
      "\u001b[1;31mTypeError\u001b[0m: 'tuple' object does not support item assignment"
     ]
    }
   ],
   "source": [
    "#14\n",
    "newPurchases= (\"bananas\", \"beans\", \"rice\")\n",
    "print (newPurchases [1])\n",
    "newPurchases [0] = \"apple\"\n",
    "\n",
    "#An error occurs because a tuple cannot be changed after creation"
   ]
  },
  {
   "cell_type": "code",
   "execution_count": 44,
   "metadata": {},
   "outputs": [
    {
     "name": "stdout",
     "output_type": "stream",
     "text": [
      "1  is assigned to  orange\n",
      "2  is assigned to  apple\n",
      "3  is assigned to  pear\n",
      "4  is assigned to  grape\n",
      "5  is assigned to  peach\n"
     ]
    }
   ],
   "source": [
    "#15\n",
    "fruits = {1:'orange', 2:'apple', 3:'pear', 4:'grape', 5:'peach'}\n",
    "for key, value in fruits.items():\n",
    "    print(key, ' is assigned to ',value)"
   ]
  },
  {
   "cell_type": "code",
   "execution_count": 45,
   "metadata": {},
   "outputs": [],
   "source": [
    "#16\n",
    "monday = ['potatoes1', 'carrots1', 'cod1', 'sprouts1']\n",
    "tuesday = ['potatoes2', 'carrots2', 'cod2', 'sprouts2']\n",
    "wednesday = ['potatoes3', 'carrots3', 'cod3', 'sprouts3']\n",
    "thursday = ['potatoes4', 'carrots4', 'cod4', 'sprouts4']\n",
    "friday = ['potatoes5', 'carrots5', 'cod5', 'sprouts5']\n",
    "\n",
    "weekList = [monday,tuesday,wednesday,thursday,friday]"
   ]
  },
  {
   "cell_type": "code",
   "execution_count": 46,
   "metadata": {},
   "outputs": [],
   "source": [
    "#17\n",
    "del shoppingList"
   ]
  },
  {
   "cell_type": "code",
   "execution_count": 47,
   "metadata": {},
   "outputs": [
    {
     "name": "stdout",
     "output_type": "stream",
     "text": [
      "f(1)=9\n",
      "f(2)=20\n",
      "f(3)=37\n",
      "f(4)=60\n",
      "f(5)=89\n",
      "f(6)=124\n",
      "f(7)=165\n",
      "f(8)=212\n",
      "f(9)=265\n",
      "f(10)=324\n",
      "f(11)=389\n",
      "f(12)=460\n",
      "f(13)=537\n",
      "f(14)=620\n",
      "f(15)=709\n",
      "f(16)=804\n",
      "f(17)=905\n",
      "f(18)=1012\n",
      "f(19)=1125\n",
      "f(20)=1244\n",
      "f(21)=1369\n",
      "f(22)=1500\n",
      "f(23)=1637\n",
      "f(24)=1780\n",
      "f(25)=1929\n",
      "f(26)=2084\n",
      "f(27)=2245\n",
      "f(28)=2412\n",
      "f(29)=2585\n",
      "f(30)=2764\n",
      "f(31)=2949\n",
      "f(32)=3140\n",
      "f(33)=3337\n",
      "f(34)=3540\n",
      "f(35)=3749\n",
      "f(36)=3964\n",
      "f(37)=4185\n",
      "f(38)=4412\n",
      "f(39)=4645\n",
      "f(40)=4884\n",
      "f(41)=5129\n",
      "f(42)=5380\n",
      "f(43)=5637\n",
      "f(44)=5900\n",
      "f(45)=6169\n",
      "f(46)=6444\n",
      "f(47)=6725\n",
      "f(48)=7012\n",
      "f(49)=7305\n",
      "f(50)=7604\n",
      "f(51)=7909\n",
      "f(52)=8220\n",
      "f(53)=8537\n",
      "f(54)=8860\n",
      "f(55)=9189\n",
      "f(56)=9524\n",
      "f(57)=9865\n",
      "f(58)=10212\n",
      "f(59)=10565\n",
      "f(60)=10924\n",
      "f(61)=11289\n",
      "f(62)=11660\n",
      "f(63)=12037\n",
      "f(64)=12420\n",
      "f(65)=12809\n",
      "f(66)=13204\n",
      "f(67)=13605\n",
      "f(68)=14012\n",
      "f(69)=14425\n",
      "f(70)=14844\n",
      "f(71)=15269\n",
      "f(72)=15700\n",
      "f(73)=16137\n",
      "f(74)=16580\n",
      "f(75)=17029\n",
      "f(76)=17484\n",
      "f(77)=17945\n",
      "f(78)=18412\n",
      "f(79)=18885\n",
      "f(80)=19364\n",
      "f(81)=19849\n",
      "f(82)=20340\n",
      "f(83)=20837\n",
      "f(84)=21340\n",
      "f(85)=21849\n",
      "f(86)=22364\n",
      "f(87)=22885\n",
      "f(88)=23412\n",
      "f(89)=23945\n",
      "f(90)=24484\n",
      "f(91)=25029\n",
      "f(92)=25580\n",
      "f(93)=26137\n",
      "f(94)=26700\n",
      "f(95)=27269\n",
      "f(96)=27844\n",
      "f(97)=28425\n",
      "f(98)=29012\n",
      "f(99)=29605\n",
      "f(100)=30204\n"
     ]
    }
   ],
   "source": [
    "#18\n",
    "def f(x):\n",
    "    return 3*x**2 + 2*x + 4\n",
    "\n",
    "xValues = [x for x in range (1,101)]\n",
    "yValues = []\n",
    "\n",
    "for x in xValues:\n",
    "    yValues.append(f(x))\n",
    "\n",
    "for i in range(0,len(xValues)):\n",
    "    print('f('+str(xValues[i])+')='+str(yValues[i]))"
   ]
  },
  {
   "cell_type": "code",
   "execution_count": null,
   "metadata": {},
   "outputs": [],
   "source": []
  }
 ],
 "metadata": {
  "kernelspec": {
   "display_name": "Python 3",
   "language": "python",
   "name": "python3"
  },
  "language_info": {
   "codemirror_mode": {
    "name": "ipython",
    "version": 3
   },
   "file_extension": ".py",
   "mimetype": "text/x-python",
   "name": "python",
   "nbconvert_exporter": "python",
   "pygments_lexer": "ipython3",
   "version": "3.8.1"
  }
 },
 "nbformat": 4,
 "nbformat_minor": 4
}
